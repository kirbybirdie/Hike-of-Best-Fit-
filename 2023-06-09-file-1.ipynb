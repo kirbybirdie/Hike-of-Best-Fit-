{
 "cells": [
  {
   "cell_type": "code",
   "execution_count": 2,
   "metadata": {
    "cocalc": {
     "outputs": {
      "1": {
       "name": "input",
       "opts": {
        "password": false,
        "prompt": "Do you have a prefered city for the location of your hike? Yes or No?"
       },
       "output_type": "stream"
      }
     }
    },
    "collapsed": false
   },
   "outputs": [
    {
     "name": "stdout",
     "output_type": "stream",
     "text": [
      "\n",
      "          /\\\n",
      "         /**\\\n",
      "        /****\\   /\\\n",
      "       /      \\ /**\\\n",
      "      /  /\\    /    \\        /\\    /\\  /\\      /\\            /\\/\\/\\  /\\\n",
      "     /  /  \\  /      \\      /  \\/\\/  \\/  \\  /\\/  \\/\\  /\\  /\\/ / /  \\/  \\\n",
      "    /  /    \\/ /\\     \\    /    \\ \\  /    \\/ /   /  \\/  \\/  \\  /    \\   \\\n",
      "   /  /      \\/  \\/\\   \\  /      \\    /   /    \\\n",
      "__/__/_______/___/__\\___\\__________________________________________________\n",
      "\n",
      "                ╦ ╦┬┬┌─┌─┐  ┌─┐┌─┐  ╔╗ ┌─┐┌─┐┌┬┐  ╔═╗┬┌┬┐┬\n",
      "                ╠═╣│├┴┐├┤   │ │├┤   ╠╩╗├┤ └─┐ │   ╠╣ │ │ │\n",
      "                ╩ ╩┴┴ ┴└─┘  └─┘└    ╚═╝└─┘└─┘ ┴   ╚  ┴ ┴ o\n",
      "\n",
      "Welcome to the Hike of Best Fit! Answer the questions and you will find your personal Oregon hike of best fit!\n"
     ]
    },
    {
     "name": "stdout",
     "output_type": "stream",
     "text": "Do you have a prefered city for the location of your hike? Yes or No? "
    }
   ],
   "source": [
    "#load in the data\n",
    "import requests\n",
    "import json\n",
    "\n",
    "url = 'https://raw.githubusercontent.com/j-ane/trail-data/master/State%20Trail%20Data/Oregon.json'\n",
    "\n",
    "data = requests.get(url)\n",
    "oregon_hikes_info = json.loads(data.text)\n",
    "\n",
    "oregon_hikes_info\n",
    "\n",
    "\n",
    "\n",
    "#splash screen\n",
    "print(r\"\"\"\n",
    "          /\\\n",
    "         /**\\\n",
    "        /****\\   /\\\n",
    "       /      \\ /**\\\n",
    "      /  /\\    /    \\        /\\    /\\  /\\      /\\            /\\/\\/\\  /\\\n",
    "     /  /  \\  /      \\      /  \\/\\/  \\/  \\  /\\/  \\/\\  /\\  /\\/ / /  \\/  \\\n",
    "    /  /    \\/ /\\     \\    /    \\ \\  /    \\/ /   /  \\/  \\/  \\  /    \\   \\\n",
    "   /  /      \\/  \\/\\   \\  /      \\    /   /    \\\n",
    "__/__/_______/___/__\\___\\__________________________________________________\n",
    "\n",
    "                ╦ ╦┬┬┌─┌─┐  ┌─┐┌─┐  ╔╗ ┌─┐┌─┐┌┬┐  ╔═╗┬┌┬┐┬\n",
    "                ╠═╣│├┴┐├┤   │ │├┤   ╠╩╗├┤ └─┐ │   ╠╣ │ │ │\n",
    "                ╩ ╩┴┴ ┴└─┘  └─┘└    ╚═╝└─┘└─┘ ┴   ╚  ┴ ┴ o\n",
    "\"\"\")\n",
    "\n",
    "\n",
    "\n",
    "\n",
    "#user input/questions\n",
    "\n",
    "print('Welcome to the Hike of Best Fit! Answer the questions and you will find your personal Oregon hike of best fit!')\n",
    "\n",
    "city_yn = input('Do you have a prefered city for the location of your hike? Yes or No?')\n",
    "\n",
    "if city_yn.lower() == 'yes':\n",
    "    pref_city = input('What is your prefered city? Example answer: Salem')\n",
    "else:\n",
    "    pref_city = ''\n",
    "\n",
    "pref_difficulty = int(input('What is your prefered hike difficulty on a scale of 1-4?'))\n",
    "\n",
    "pref_elevation = int(input('What is your prefered elevation gain for your hike in feet? Easy ~ 500ft or less. Hard ~ 4,500ft or more. Example answer: 750'))\n",
    "\n",
    "pref_length = int(input('What is your ideal total length of your hike in miles? Example answer: 3'))\n",
    "\n",
    "pref_type = input('Do you want an Out-and-Back, Point-to-Point, or Loop trail? Answer with O, P, or L.')\n",
    "\n",
    "print('Out of the following:\\nCave, Dogs No, Forest, Kid Friendly, Hot Springs, River, Views, Waterfall, Wild Flowers, Wildlife, Dogs Leash, Partially Paved, Lake, Beach, Historic Site, Dogs, Paved, Wheelchair Friendly, Stroller Friendly, City Walk, Rails Trails, Event.')\n",
    "pref_features = input('What features for the hike are most important to you? Choose 2 different features seperated by a comma. Answer exactly how the feature is written (upper case and spaces). Example answer: Cave, Dogs No')\n",
    "\n",
    "print('Out of the following:\\nBird Watching, Camping, Hiking, Nature Trips, Running, Walking, Mountain Biking, Snowshoeing, Fishing, Backpacking, Rock Climbing, Skiing, Paddle Sports, Cross Country Skiing, Horseback Riding, Road Biking, Bike Touring, Scenic Driving, OHV/Off Road Driving, Surfing.')\n",
    "pref_activities = input('What activies available on the hike are most important to you? Choose 2 different activities seperated by a comma. Answer exactly how the activity is written (upper case and spaces). Example answer: Bird Watching, Camping') \n",
    "\n",
    "\n",
    "\n",
    "#scoring dictionary\n",
    "score_dict = {}\n",
    "\n",
    "for hike in oregon_hikes_info:\n",
    "    score_dict[hike['name']] = 0\n",
    "\n",
    "score_dict\n",
    "\n",
    "scores = []\n",
    "\n",
    "\n",
    "\n",
    "#Calculating score based on attribute for each hike\n",
    "for hike in oregon_hikes_info:\n",
    "    if hike['city_name'] == pref_city:\n",
    "        score_dict[hike['name']] += 5\n",
    "\n",
    "    hike_difficulty = 0\n",
    "    if hike['difficulty_rating'] == '1':\n",
    "        hike_difficulty = 1\n",
    "    if hike['difficulty_rating'] == '3':\n",
    "        hike_difficulty = 2\n",
    "    if hike['difficulty_rating'] == '5':\n",
    "        hike_difficulty = 3\n",
    "    if hike['difficulty_rating'] == '7':\n",
    "        hike_difficulty = 4\n",
    "    if hike_difficulty == pref_difficulty:   \n",
    "        score_dict[hike['name']] += 5\n",
    "\n",
    "    if abs(int(hike['elevation_gain']*3.28084) - int(pref_elevation)) <= 500:\n",
    "        score_dict[hike['name']] += 5\n",
    "\n",
    "    if abs(int(hike['length']*0.00062137) - int(pref_length)) <= 3:\n",
    "        score_dict[hike['name']] += 5\n",
    "\n",
    "    if hike['route_type'] == pref_type:\n",
    "        score_dict[hike['name']] += 3\n",
    "\n",
    "    pref_features.split(',')\n",
    "    for i in range(0,2):\n",
    "        for feat in hike['feature_names']:\n",
    "            if pref_features[i].strip() == feat:\n",
    "                score_dict[hike['name']] += 3\n",
    "\n",
    "    pref_activities.split(',')\n",
    "    for i in range(0,2):\n",
    "        if pref_activities[i].strip() in hike['activity_names']:   \n",
    "            score_dict[hike['name']] += 3\n",
    "\n",
    "score_dict\n",
    "\n",
    "\n",
    "\n",
    "#calculating the best hikes based on score\n",
    "\n",
    "from heapq import nlargest    #new import nlargest\n",
    "\n",
    "three_top_hikes = nlargest(3, score_dict, key = score_dict.get)\n",
    "\n",
    "print('\\033[1m' + 'Your top 3 reccomended Oregon hikes!\\n')\n",
    "\n",
    "for val in three_top_hikes:\n",
    "    print('\\033[92m' + val,\": with a score of \", score_dict.get(val))\n",
    "\n",
    "if 'CLOSED' in three_top_hikes:\n",
    "    print('Watch out, at least one of your recommended hikes is closed :(')\n",
    "\n",
    "if 'PRIVATE PROPERTY' in three_top_hikes:\n",
    "    print('Watch out, at least one of your recommended hikes is on private property :(')"
   ]
  },
  {
   "cell_type": "code",
   "execution_count": 0,
   "metadata": {
    "collapsed": false
   },
   "outputs": [
   ],
   "source": [
   ]
  }
 ],
 "metadata": {
  "kernelspec": {
   "argv": [
    "/usr/bin/python3",
    "-m",
    "ipykernel",
    "--HistoryManager.enabled=False",
    "--matplotlib=inline",
    "-c",
    "%config InlineBackend.figure_formats = set(['retina'])\nimport matplotlib; matplotlib.rcParams['figure.figsize'] = (12, 7)",
    "-f",
    "{connection_file}"
   ],
   "display_name": "Python 3 (system-wide)",
   "env": {
   },
   "language": "python",
   "metadata": {
    "cocalc": {
     "description": "Python 3 programming language",
     "priority": 100,
     "url": "https://www.python.org/"
    }
   },
   "name": "python3",
   "resource_dir": "/ext/jupyter/kernels/python3"
  },
  "language_info": {
   "codemirror_mode": {
    "name": "ipython",
    "version": 3
   },
   "file_extension": ".py",
   "mimetype": "text/x-python",
   "name": "python",
   "nbconvert_exporter": "python",
   "pygments_lexer": "ipython3",
   "version": "3.10.6"
  }
 },
 "nbformat": 4,
 "nbformat_minor": 4
}